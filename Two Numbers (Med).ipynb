{
 "cells": [
  {
   "cell_type": "markdown",
   "id": "948a8456-8f2c-4334-8e23-231731d62295",
   "metadata": {},
   "source": [
    "You are given two non-empty linked lists representing two non-negative integers. The digits are stored in reverse order, and each of their nodes contains a single digit. Add the two numbers and return the sum as a linked list.\n",
    "\n",
    "You may assume the two numbers do not contain any leading zero, except the number 0 itself.\n",
    "\n",
    "https://assets.leetcode.com/uploads/2020/10/02/addtwonumber1.jpg\n",
    "\n",
    "Tests:\n",
    "\n",
    "l1 = [2,4,3]\n",
    "l2 = [5,6,4]\n",
    "\n",
    "l1 = 0\n",
    "l2 = 0\n",
    "\n",
    "l1 = [9,9,9,9,9,9,9]\n",
    "l2 = [9,9,9,9]\n"
   ]
  },
  {
   "cell_type": "code",
   "execution_count": null,
   "id": "77285dfc-2a52-40f0-8f5d-f7a15569e47d",
   "metadata": {},
   "outputs": [],
   "source": [
    "#starting Quesy\n",
    "Definition for singly-linked list.<br>\n",
    "class ListNode:<br>\n",
    "     def __init__(self, val=0, next=None):<br>\n",
    "         self.val = val<br>\n",
    "         self.next = next<br>\n",
    "class Solution:<br>\n",
    "    def addTwoNumbers(self, l1: Optional[ListNode], l2: Optional[ListNode]) -> Optional[ListNode]:"
   ]
  },
  {
   "cell_type": "code",
   "execution_count": 100,
   "id": "3204591b-c427-4568-9eab-009541c83f36",
   "metadata": {},
   "outputs": [
    {
     "data": {
      "text/plain": [
       "[]"
      ]
     },
     "execution_count": 100,
     "metadata": {},
     "output_type": "execute_result"
    }
   ],
   "source": [
    "l1 = [9,9,9,9,9,9,9]\n",
    "l2 = [9,9,9,9]\n",
    "\n",
    "def addTwoNumbers(l1, l2):\n",
    "    openl = []\n",
    "    for n in l1:\n",
    "        if n+2 > 9:\n",
    "            pass\n",
    "        else:\n",
    "            openl.append(n+2)\n",
    "    return list(reversed(openl))\n",
    "\n",
    "addTwoNumbers(l1, l2)"
   ]
  },
  {
   "cell_type": "code",
   "execution_count": 5,
   "id": "c795f0bf-3b18-446a-90b2-84b48e2a0f31",
   "metadata": {},
   "outputs": [
    {
     "name": "stdout",
     "output_type": "stream",
     "text": [
      "Collecting mypy_ipython\n",
      "  Downloading mypy_ipython-20.8.0.tar.gz (3.7 kB)\n",
      "  Preparing metadata (setup.py): started\n",
      "  Preparing metadata (setup.py): finished with status 'done'\n",
      "Requirement already satisfied: attrs in c:\\users\\ames\\anaconda3\\lib\\site-packages (from mypy_ipython) (23.1.0)\n",
      "Requirement already satisfied: incremental in c:\\users\\ames\\anaconda3\\lib\\site-packages (from mypy_ipython) (22.10.0)\n",
      "Requirement already satisfied: mypy in c:\\users\\ames\\anaconda3\\lib\\site-packages (from mypy_ipython) (1.11.2)\n",
      "Requirement already satisfied: IPython in c:\\users\\ames\\anaconda3\\lib\\site-packages (from mypy_ipython) (9.5.0)\n",
      "Requirement already satisfied: colorama in c:\\users\\ames\\anaconda3\\lib\\site-packages (from IPython->mypy_ipython) (0.4.6)\n",
      "Requirement already satisfied: decorator in c:\\users\\ames\\anaconda3\\lib\\site-packages (from IPython->mypy_ipython) (5.1.1)\n",
      "Requirement already satisfied: ipython-pygments-lexers in c:\\users\\ames\\anaconda3\\lib\\site-packages (from IPython->mypy_ipython) (1.1.1)\n",
      "Requirement already satisfied: jedi>=0.16 in c:\\users\\ames\\anaconda3\\lib\\site-packages (from IPython->mypy_ipython) (0.19.1)\n",
      "Requirement already satisfied: matplotlib-inline in c:\\users\\ames\\anaconda3\\lib\\site-packages (from IPython->mypy_ipython) (0.1.6)\n",
      "Requirement already satisfied: prompt_toolkit<3.1.0,>=3.0.41 in c:\\users\\ames\\anaconda3\\lib\\site-packages (from IPython->mypy_ipython) (3.0.43)\n",
      "Requirement already satisfied: pygments>=2.4.0 in c:\\users\\ames\\anaconda3\\lib\\site-packages (from IPython->mypy_ipython) (2.15.1)\n",
      "Requirement already satisfied: stack_data in c:\\users\\ames\\anaconda3\\lib\\site-packages (from IPython->mypy_ipython) (0.2.0)\n",
      "Requirement already satisfied: traitlets>=5.13.0 in c:\\users\\ames\\anaconda3\\lib\\site-packages (from IPython->mypy_ipython) (5.14.3)\n",
      "Requirement already satisfied: typing-extensions>=4.6.0 in c:\\users\\ames\\anaconda3\\lib\\site-packages (from mypy->mypy_ipython) (4.11.0)\n",
      "Requirement already satisfied: mypy-extensions>=1.0.0 in c:\\users\\ames\\anaconda3\\lib\\site-packages (from mypy->mypy_ipython) (1.0.0)\n",
      "Requirement already satisfied: parso<0.9.0,>=0.8.3 in c:\\users\\ames\\anaconda3\\lib\\site-packages (from jedi>=0.16->IPython->mypy_ipython) (0.8.3)\n",
      "Requirement already satisfied: wcwidth in c:\\users\\ames\\anaconda3\\lib\\site-packages (from prompt_toolkit<3.1.0,>=3.0.41->IPython->mypy_ipython) (0.2.5)\n",
      "Requirement already satisfied: executing in c:\\users\\ames\\anaconda3\\lib\\site-packages (from stack_data->IPython->mypy_ipython) (0.8.3)\n",
      "Requirement already satisfied: asttokens in c:\\users\\ames\\anaconda3\\lib\\site-packages (from stack_data->IPython->mypy_ipython) (2.0.5)\n",
      "Requirement already satisfied: pure-eval in c:\\users\\ames\\anaconda3\\lib\\site-packages (from stack_data->IPython->mypy_ipython) (0.2.2)\n",
      "Requirement already satisfied: six in c:\\users\\ames\\anaconda3\\lib\\site-packages (from asttokens->stack_data->IPython->mypy_ipython) (1.16.0)\n",
      "Building wheels for collected packages: mypy_ipython\n",
      "  Building wheel for mypy_ipython (setup.py): started\n",
      "  Building wheel for mypy_ipython (setup.py): finished with status 'done'\n",
      "  Created wheel for mypy_ipython: filename=mypy_ipython-20.8.0-py3-none-any.whl size=4346 sha256=b490bead4bfc2fd66d032824f6adfde687acb67a19a2457f0c05d3afcfe764e8\n",
      "  Stored in directory: c:\\users\\ames\\appdata\\local\\pip\\cache\\wheels\\8b\\85\\fe\\8080788fd3e0d264fcb6fc64e155a55f80a2ab5b96c900ddf6\n",
      "Successfully built mypy_ipython\n",
      "Installing collected packages: mypy_ipython\n",
      "Successfully installed mypy_ipython-20.8.0\n",
      "Note: you may need to restart the kernel to use updated packages.\n"
     ]
    }
   ],
   "source": [
    "    pip install mypy_ipython\n"
   ]
  },
  {
   "cell_type": "code",
   "execution_count": null,
   "id": "22cd54d0-05f6-4912-816e-86d2c908c3b7",
   "metadata": {},
   "outputs": [],
   "source": []
  }
 ],
 "metadata": {
  "kernelspec": {
   "display_name": "Python [conda env:base] *",
   "language": "python",
   "name": "conda-base-py"
  },
  "language_info": {
   "codemirror_mode": {
    "name": "ipython",
    "version": 3
   },
   "file_extension": ".py",
   "mimetype": "text/x-python",
   "name": "python",
   "nbconvert_exporter": "python",
   "pygments_lexer": "ipython3",
   "version": "3.12.7"
  }
 },
 "nbformat": 4,
 "nbformat_minor": 5
}
