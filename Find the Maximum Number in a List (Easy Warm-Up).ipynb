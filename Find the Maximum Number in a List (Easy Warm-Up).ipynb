{
 "cells": [
  {
   "cell_type": "markdown",
   "id": "0e7a85ba-4489-4096-ae51-49fd25022153",
   "metadata": {},
   "source": [
    "Prompt:\n",
    "Write a function that takes a list of integers and returns the largest number.\n",
    "\n",
    "Example:\n",
    "\n",
    "Input: [3, 17, 9, 24, 11]\n",
    "Output: 24"
   ]
  },
  {
   "cell_type": "code",
   "execution_count": 12,
   "id": "876d2aeb-1fec-4602-ad1f-53df14453fb8",
   "metadata": {},
   "outputs": [
    {
     "data": {
      "text/plain": [
       "24"
      ]
     },
     "execution_count": 12,
     "metadata": {},
     "output_type": "execute_result"
    }
   ],
   "source": [
    "nums = [3, 17, 9, 24, 11]\n",
    "def max_num(nums):\n",
    "    return max(nums)\n",
    "\n",
    "max_num(nums)"
   ]
  }
 ],
 "metadata": {
  "kernelspec": {
   "display_name": "Python [conda env:base] *",
   "language": "python",
   "name": "conda-base-py"
  },
  "language_info": {
   "codemirror_mode": {
    "name": "ipython",
    "version": 3
   },
   "file_extension": ".py",
   "mimetype": "text/x-python",
   "name": "python",
   "nbconvert_exporter": "python",
   "pygments_lexer": "ipython3",
   "version": "3.12.7"
  }
 },
 "nbformat": 4,
 "nbformat_minor": 5
}
