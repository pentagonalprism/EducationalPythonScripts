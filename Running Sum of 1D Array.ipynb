{
 "cells": [
  {
   "cell_type": "code",
   "execution_count": null,
   "id": "fabca2f0-4584-491b-b3b5-41b4b0d21c23",
   "metadata": {},
   "outputs": [],
   "source": [
    "🧩 Problem: Running Sum of 1D Array\n",
    "\n",
    "(LeetCode #1480)\n",
    "\n",
    "Prompt:\n",
    "Given an array nums, return an array runningSum such that\n",
    "runningSum[i] = nums[0] + nums[1] + ... + nums[i]."
   ]
  },
  {
   "cell_type": "code",
   "execution_count": 25,
   "id": "04068962-5240-4c3c-baa0-a5d70e453099",
   "metadata": {},
   "outputs": [],
   "source": [
    "Input:  nums = [1,2,3,4]\n",
    "Output: [1,3,6,10]"
   ]
  },
  {
   "cell_type": "code",
   "execution_count": 153,
   "id": "d79eb294-98c1-4df4-a5b2-a0d007f4137e",
   "metadata": {},
   "outputs": [
    {
     "name": "stdout",
     "output_type": "stream",
     "text": [
      "1\n",
      "2\n",
      "3\n",
      "4\n"
     ]
    },
    {
     "data": {
      "text/plain": [
       "[1, 3, 6, 10]"
      ]
     },
     "execution_count": 153,
     "metadata": {},
     "output_type": "execute_result"
    }
   ],
   "source": [
    "#attempt number 1\n",
    "import numpy as np\n",
    "\n",
    "nums = np.arange(1,5)\n",
    "\n",
    "def running_sum(nums):\n",
    "    output = []\n",
    "    \n",
    "    for i,j in enumerate(nums):\n",
    "        print(nums[i])\n",
    "        if output == []:\n",
    "            output.append(nums[i])\n",
    "        else:\n",
    "            output.append(nums[i]+output[i-1])\n",
    "            \n",
    "    return output\n",
    "\n",
    "running_sum(nums)"
   ]
  },
  {
   "cell_type": "code",
   "execution_count": 185,
   "id": "87caf517-4154-4a2e-95d5-0e467f4f1ffa",
   "metadata": {},
   "outputs": [
    {
     "data": {
      "text/plain": [
       "[1, 3, 6, 10]"
      ]
     },
     "execution_count": 185,
     "metadata": {},
     "output_type": "execute_result"
    }
   ],
   "source": [
    "import numpy as np\n",
    "\n",
    "nums = np.arange(1,5)\n",
    "\n",
    "def running_sum(nums):\n",
    "    output=[]\n",
    "    current = 0\n",
    "    for nums in nums:\n",
    "        current+=nums\n",
    "        output.append(current)\n",
    "    return output\n",
    "    \n",
    "running_sum(nums)"
   ]
  },
  {
   "cell_type": "code",
   "execution_count": null,
   "id": "f164feb2-41bc-46f3-b729-5eefd7c96216",
   "metadata": {},
   "outputs": [],
   "source": []
  }
 ],
 "metadata": {
  "kernelspec": {
   "display_name": "Python [conda env:base] *",
   "language": "python",
   "name": "conda-base-py"
  },
  "language_info": {
   "codemirror_mode": {
    "name": "ipython",
    "version": 3
   },
   "file_extension": ".py",
   "mimetype": "text/x-python",
   "name": "python",
   "nbconvert_exporter": "python",
   "pygments_lexer": "ipython3",
   "version": "3.12.7"
  }
 },
 "nbformat": 4,
 "nbformat_minor": 5
}
