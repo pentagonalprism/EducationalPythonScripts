{
 "cells": [
  {
   "cell_type": "markdown",
   "id": "1766e5ee-564a-4d8e-abd2-bc6dc503a85e",
   "metadata": {},
   "source": [
    "FizzBuzz\n",
    "\n",
    "Prompt:\n",
    "Write a function that prints numbers from 1 to n, but:\n",
    "\n",
    "For multiples of 3, print \"Fizz\" instead of the number.\n",
    "\n",
    "For multiples of 5, print \"Buzz\".\n",
    "\n",
    "For numbers that are multiples of both 3 and 5, print \"FizzBuzz\".\n",
    "\n",
    "Otherwise, print the number itself."
   ]
  },
  {
   "cell_type": "code",
   "execution_count": 86,
   "id": "3539b317-4cca-45a5-9e34-a6d175345236",
   "metadata": {},
   "outputs": [
    {
     "name": "stdout",
     "output_type": "stream",
     "text": [
      "1\n",
      "2\n",
      "Fizz\n",
      "4\n",
      "Buzz\n",
      "Fizz\n",
      "7\n",
      "8\n",
      "Fizz\n",
      "Buzz\n",
      "11\n",
      "Fizz\n",
      "13\n",
      "14\n",
      "FizzBuzz\n",
      "16\n",
      "17\n",
      "Fizz\n",
      "19\n"
     ]
    }
   ],
   "source": [
    "import numpy as np\n",
    "\n",
    "nums = np.arange(1,20)\n",
    "\n",
    "def get_buzz(nums):\n",
    "\n",
    "    for num in nums:\n",
    "        if not (num%5) and not (num%3):\n",
    "            print(\"FizzBuzz\")\n",
    "        elif not (num%3):\n",
    "            print(\"Fizz\")\n",
    "        elif not (num%5):\n",
    "            print(\"Buzz\")\n",
    "        else:\n",
    "            print(num)\n",
    "\n",
    "get_buzz(nums)"
   ]
  }
 ],
 "metadata": {
  "kernelspec": {
   "display_name": "Python [conda env:base] *",
   "language": "python",
   "name": "conda-base-py"
  },
  "language_info": {
   "codemirror_mode": {
    "name": "ipython",
    "version": 3
   },
   "file_extension": ".py",
   "mimetype": "text/x-python",
   "name": "python",
   "nbconvert_exporter": "python",
   "pygments_lexer": "ipython3",
   "version": "3.12.7"
  }
 },
 "nbformat": 4,
 "nbformat_minor": 5
}
