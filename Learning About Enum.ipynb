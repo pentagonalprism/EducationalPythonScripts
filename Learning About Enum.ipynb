{
 "cells": [
  {
   "cell_type": "markdown",
   "id": "65d8c5e6-3671-4b46-9087-2d53c062b91e",
   "metadata": {},
   "source": [
    "## Enum via enum module (StrEnum, auto, Enum)\n",
    "<p><strong>Enum </strong> and <strong>StrEnum</strong> enumerate over variables using the auto() call.<br> For Enum this stores the string as an integer in memory.<br> For STREnum this saves it as string.<br><strong>Color.Black</strong> will return as <strong>1</strong> or <strong>'Black'</strong> depending on which is called.</p>\n",
    "\n",
    "<i>*please note that<strong> Color.Black != Color3.Black</strong> because they are save in different places within memory</i>\n"
   ]
  },
  {
   "cell_type": "code",
   "execution_count": 30,
   "id": "a6e56f9d-0b6c-4fb8-a62c-646b3596f235",
   "metadata": {},
   "outputs": [
    {
     "name": "stdout",
     "output_type": "stream",
     "text": [
      "Animal(legs=3, has_tail=False, length_m=0.3, height_m=0.6, colors=<Color.BLACK: 4>, treats_eaten={'bacon': 1000, 'cookie': 5000, 'your-sock': 12}, species='dog')\n",
      "Animal(legs=3, has_tail=False, length_m=0.3, height_m=0.6, colors=<Color2.BLACK: 'black'>, treats_eaten={'bacon': 1000, 'cookie': 5000, 'your-sock': 12}, species='dog')\n"
     ]
    }
   ],
   "source": [
    "\"\"\"ENUM and StrEnumm enumerate over variables using the auto() call. For Enum this stores the string as an integer in memory. For STREnum this saves it as string. \n",
    "Color.Black will return as 1 or 'Black' depending on which is called\"\"\"\n",
    "\n",
    "from dataclasses import dataclass\n",
    "from enum import StrEnum, auto, Enum\n",
    "\n",
    "class Color(Enum):\n",
    "    RED = auto()\n",
    "    BLUE = auto()\n",
    "    YELLOW = auto()\n",
    "    BLACK = auto()\n",
    "\n",
    "# same enum\n",
    "# Color3.RED == Color.RED returns False\n",
    "# they are not the same!!!\n",
    "# this is to prevent you from mixing up categories!\n",
    "class Color3(Enum):\n",
    "    RED = auto()\n",
    "    BLUE = auto()\n",
    "    YELLOW = auto()\n",
    "    BLACK = auto()\n",
    "\n",
    "\n",
    "# in underlying memory it will store\n",
    "# as a string instead of integer, so\n",
    "# it prints out nicely and stuff like\n",
    "# Color.RED == 'red' is True\n",
    "class Color2(StrEnum):\n",
    "    RED = auto()\n",
    "    BLUE = auto()\n",
    "    YELLOW = auto()\n",
    "    BLACK = auto()\n",
    "\n",
    "@dataclass\n",
    "class Animal:\n",
    "    legs : int\n",
    "    has_tail : bool\n",
    "    length_m : float\n",
    "    height_m : float\n",
    "    colors: list[Color]\n",
    "    treats_eaten: dict[str, int]\n",
    "    # default arguments MUST GO AT THE END!\n",
    "    species : str = \"my-default-species\"\n",
    "\n",
    "# with regular enum\n",
    "animal = Animal(3, False, 0.3, 0.6, Color.BLACK, {\"bacon\": 1000, \"cookie\": 5000, \"your-sock\": 12}, \"dog\")\n",
    "print(animal)\n",
    "# with StrEnum\n",
    "animal = Animal(3, False, 0.3, 0.6, Color2.BLACK, {\"bacon\": 1000, \"cookie\": 5000, \"your-sock\": 12}, \"dog\")\n",
    "print(animal)\n",
    "\n",
    "# note these are NOT equal even though their classes look the exact same\n",
    "Color.RED == Color3.RED\n",
    "\n",
    "def foo() -> Animal:\n",
    "    return Animal(3, False, 0.3, 0.6, Color.BLACK, {\"bacon\": 1000, \"cookie\": 5000, \"your-sock\": 12}, \"dog\")"
   ]
  }
 ],
 "metadata": {
  "kernelspec": {
   "display_name": "Python [conda env:base] *",
   "language": "python",
   "name": "conda-base-py"
  },
  "language_info": {
   "codemirror_mode": {
    "name": "ipython",
    "version": 3
   },
   "file_extension": ".py",
   "mimetype": "text/x-python",
   "name": "python",
   "nbconvert_exporter": "python",
   "pygments_lexer": "ipython3",
   "version": "3.12.7"
  }
 },
 "nbformat": 4,
 "nbformat_minor": 5
}
