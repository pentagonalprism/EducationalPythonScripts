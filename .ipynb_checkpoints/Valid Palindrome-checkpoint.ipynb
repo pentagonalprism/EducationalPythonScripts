{
 "cells": [
  {
   "cell_type": "code",
   "execution_count": null,
   "id": "a81f3b21-695c-4a9f-ab32-f8e2d7fef1c9",
   "metadata": {},
   "outputs": [],
   "source": [
    "🧩 Problem: Valid Palindrome\n",
    "\n",
    "Prompt:\n",
    "Given a string s, return True if it is a palindrome (reads the same forward and backward), ignoring case and non-alphanumeric characters. Otherwise return False."
   ]
  },
  {
   "cell_type": "code",
   "execution_count": 1,
   "id": "0dc78382-7e73-4f7b-a1ee-6c929b6484d1",
   "metadata": {},
   "outputs": [],
   "source": [
    "Input: \"A man, a plan, a canal: Panama\"\n",
    "Output: True   # because \"amanaplanacanalpanama\" is a palindrome\n",
    "\n",
    "Input: \"race a car\"\n",
    "Output: False"
   ]
  },
  {
   "cell_type": "code",
   "execution_count": 145,
   "id": "4cb7639f-fe1b-424e-8906-a45e08f70b94",
   "metadata": {},
   "outputs": [
    {
     "data": {
      "text/plain": [
       "False"
      ]
     },
     "execution_count": 145,
     "metadata": {},
     "output_type": "execute_result"
    }
   ],
   "source": [
    "\n",
    "input = \"race a car\"\n",
    "\n",
    "def palindrome(input):\n",
    "\n",
    "    newword = []\n",
    "    \n",
    "    for i in input:\n",
    "        if i.isalnum():\n",
    "           newword.append(i.lower())\n",
    "            \n",
    "    x = \"\".join(newword)\n",
    "    \n",
    "    if x == x[::-1]:\n",
    "        return True\n",
    "    else:\n",
    "        return False\n",
    "\n",
    "palindrome(input)"
   ]
  },
  {
   "cell_type": "code",
   "execution_count": 155,
   "id": "2150f050-3626-4c5e-b862-08e832b3299b",
   "metadata": {},
   "outputs": [
    {
     "name": "stdout",
     "output_type": "stream",
     "text": [
      "dlroW olleH\n"
     ]
    },
    {
     "data": {
      "text/plain": [
       "[123]"
      ]
     },
     "execution_count": 155,
     "metadata": {},
     "output_type": "execute_result"
    }
   ],
   "source": [
    "txt = \"Hello World\"[::-1]\n",
    "print(txt)\n",
    "\n",
    "list(reversed([123]))"
   ]
  }
 ],
 "metadata": {
  "kernelspec": {
   "display_name": "Python [conda env:base] *",
   "language": "python",
   "name": "conda-base-py"
  },
  "language_info": {
   "codemirror_mode": {
    "name": "ipython",
    "version": 3
   },
   "file_extension": ".py",
   "mimetype": "text/x-python",
   "name": "python",
   "nbconvert_exporter": "python",
   "pygments_lexer": "ipython3",
   "version": "3.12.7"
  }
 },
 "nbformat": 4,
 "nbformat_minor": 5
}
